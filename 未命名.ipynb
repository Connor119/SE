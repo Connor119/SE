{
 "cells": [
  {
   "cell_type": "code",
   "execution_count": null,
   "id": "6c81400a",
   "metadata": {},
   "outputs": [],
   "source": [
    "import time\n",
    "class MyRandom:\n",
    "    seed = int(time.time())\n",
    "    def LCG(self,seed):\n",
    "        if not seed:\n",
    "            seed = cls.seed\n",
    "            "
   ]
  },
  {
   "cell_type": "code",
   "execution_count": 6,
   "id": "d397d346",
   "metadata": {
    "scrolled": false
   },
   "outputs": [
    {
     "name": "stdout",
     "output_type": "stream",
     "text": [
      "1\n",
      "2\n",
      "3\n",
      "4\n",
      "5\n",
      "Range must smaller than index.\n"
     ]
    }
   ],
   "source": [
    "ll = [1,2,3,4,5]\n",
    "try:\n",
    "    for i in range(10):\n",
    "        print(ll[i])\n",
    "except IndexError:\n",
    "    print(\"Range must smaller than index.\")"
   ]
  },
  {
   "cell_type": "code",
   "execution_count": 1,
   "id": "72c2b437",
   "metadata": {},
   "outputs": [
    {
     "name": "stdout",
     "output_type": "stream",
     "text": [
      "['Claws', 'Minnie']\n"
     ]
    }
   ],
   "source": [
    "class Cat:\n",
    "    cats = []\n",
    "    def __init__(self,name):\n",
    "        self.name = name    \n",
    "        Cat.cats.append(name)\n",
    "    @classmethod\n",
    "    def rollcall(cls):\n",
    "        print(cls.cats)\n",
    "\n",
    "c = Cat(\"Claws\")\n",
    "m = Cat(\"Minnie\")\n",
    "Cat.rollcall()"
   ]
  },
  {
   "cell_type": "code",
   "execution_count": 2,
   "id": "848a61f3",
   "metadata": {},
   "outputs": [
    {
     "name": "stdout",
     "output_type": "stream",
     "text": [
      "['Claws', 'Minnie']\n"
     ]
    }
   ],
   "source": [
    "m.rollcall()"
   ]
  },
  {
   "cell_type": "code",
   "execution_count": 8,
   "id": "71c8d992",
   "metadata": {
    "scrolled": true
   },
   "outputs": [
    {
     "ename": "ValueError",
     "evalue": "list.remove(x): x not in list",
     "output_type": "error",
     "traceback": [
      "\u001b[0;31m---------------------------------------------------------------------------\u001b[0m",
      "\u001b[0;31mValueError\u001b[0m                                Traceback (most recent call last)",
      "\u001b[0;32m<ipython-input-8-e2c7fd7e4588>\u001b[0m in \u001b[0;36m<module>\u001b[0;34m\u001b[0m\n\u001b[1;32m      1\u001b[0m \u001b[0ma\u001b[0m \u001b[0;34m=\u001b[0m \u001b[0;34m[\u001b[0m\u001b[0;36m1\u001b[0m\u001b[0;34m,\u001b[0m\u001b[0;36m2\u001b[0m\u001b[0;34m,\u001b[0m\u001b[0;36m3\u001b[0m\u001b[0;34m,\u001b[0m\u001b[0;36m4\u001b[0m\u001b[0;34m,\u001b[0m\u001b[0;36m5\u001b[0m\u001b[0;34m,\u001b[0m\u001b[0;36m6\u001b[0m\u001b[0;34m]\u001b[0m\u001b[0;34m\u001b[0m\u001b[0;34m\u001b[0m\u001b[0m\n\u001b[1;32m      2\u001b[0m \u001b[0;31m# a.pop(2)\u001b[0m\u001b[0;34m\u001b[0m\u001b[0;34m\u001b[0m\u001b[0;34m\u001b[0m\u001b[0m\n\u001b[0;32m----> 3\u001b[0;31m \u001b[0ma\u001b[0m\u001b[0;34m.\u001b[0m\u001b[0mremove\u001b[0m\u001b[0;34m(\u001b[0m\u001b[0;36m7\u001b[0m\u001b[0;34m)\u001b[0m\u001b[0;34m\u001b[0m\u001b[0;34m\u001b[0m\u001b[0m\n\u001b[0m\u001b[1;32m      4\u001b[0m \u001b[0mprint\u001b[0m\u001b[0;34m(\u001b[0m\u001b[0ma\u001b[0m\u001b[0;34m)\u001b[0m\u001b[0;34m\u001b[0m\u001b[0;34m\u001b[0m\u001b[0m\n",
      "\u001b[0;31mValueError\u001b[0m: list.remove(x): x not in list"
     ]
    }
   ],
   "source": [
    "a = [1,2,3,4,5,6]\n",
    "# a.pop(2)\n",
    "print(a)"
   ]
  },
  {
   "cell_type": "code",
   "execution_count": 9,
   "id": "42d60dbb",
   "metadata": {},
   "outputs": [],
   "source": [
    "class Car(object): \n",
    "    wheels=4\n",
    "n1=Car()"
   ]
  },
  {
   "cell_type": "code",
   "execution_count": 12,
   "id": "44a99333",
   "metadata": {},
   "outputs": [
    {
     "data": {
      "text/plain": [
       "3"
      ]
     },
     "execution_count": 12,
     "metadata": {},
     "output_type": "execute_result"
    }
   ],
   "source": [
    "n1.wheels=3\n",
    "n1.wheels"
   ]
  },
  {
   "cell_type": "code",
   "execution_count": 23,
   "id": "66d45c08",
   "metadata": {},
   "outputs": [
    {
     "name": "stdout",
     "output_type": "stream",
     "text": [
      "[-1, 1, 1, 2, 3, 5, 8, 13, 21, 34, 55]\n"
     ]
    }
   ],
   "source": [
    " fibonacci = [-1,0,1,1,2,3,5,8,13,21,34,55]\n",
    "odd_numbers = list(filter(lambda x: x, fibonacci))\n",
    "print(odd_numbers)\n"
   ]
  },
  {
   "cell_type": "code",
   "execution_count": 24,
   "id": "b9d8c3ac",
   "metadata": {},
   "outputs": [
    {
     "name": "stdout",
     "output_type": "stream",
     "text": [
      "Cat\n",
      "Cat\n"
     ]
    }
   ],
   "source": [
    "a=[1,2,0]\n",
    "for i in a:\n",
    "    if i:\n",
    "        print(\"Cat\")"
   ]
  },
  {
   "cell_type": "code",
   "execution_count": 31,
   "id": "ffb6a93d",
   "metadata": {},
   "outputs": [],
   "source": [
    "class A:\n",
    "    def __init__(self,r):\n",
    "        self.r = r\n",
    "    @property\n",
    "    def R(self):\n",
    "        return self.r*2"
   ]
  },
  {
   "cell_type": "code",
   "execution_count": 32,
   "id": "f23fd321",
   "metadata": {},
   "outputs": [],
   "source": [
    "q=A(1)"
   ]
  },
  {
   "cell_type": "code",
   "execution_count": 34,
   "id": "cab93c28",
   "metadata": {},
   "outputs": [
    {
     "data": {
      "text/plain": [
       "[__main__.Dog,\n",
       " __main__.Pet,\n",
       " __main__.Mammal,\n",
       " __main__.Animal,\n",
       " __main__.Posession,\n",
       " object]"
      ]
     },
     "execution_count": 34,
     "metadata": {},
     "output_type": "execute_result"
    }
   ],
   "source": [
    "class Animal():\n",
    "    def __init__(self,name):\n",
    "        self.name = name\n",
    "class Mammal(Animal):\n",
    "    pass\n",
    "class Posession():\n",
    "    def __init__(self,value=0):\n",
    "        self.value = value\n",
    "    def get_value(self):\n",
    "        return self.value\n",
    "class Pet(Mammal,Posession):\n",
    "    def __init__(self, name, value):\n",
    "        Mammal.__init__(self, name)\n",
    "        Posession.__init__(self, value)\n",
    "class Dog(Pet):\n",
    "    def __init__(self,name,value,chipNo):\n",
    "        self.chipNo = chipNo\n",
    "        Pet.__init__(self, name, value)\n",
    "Dog.mro()"
   ]
  },
  {
   "cell_type": "code",
   "execution_count": 35,
   "id": "e160866b",
   "metadata": {},
   "outputs": [],
   "source": [
    "class car(object):\n",
    "    wheel=4\n",
    "    def __init__(self,a):\n",
    "        self.a=a\n",
    "n1=car(\"VW\")"
   ]
  },
  {
   "cell_type": "code",
   "execution_count": 38,
   "id": "a0f49b76",
   "metadata": {},
   "outputs": [
    {
     "data": {
      "text/plain": [
       "3"
      ]
     },
     "execution_count": 38,
     "metadata": {},
     "output_type": "execute_result"
    }
   ],
   "source": [
    "n1.wheel"
   ]
  },
  {
   "cell_type": "code",
   "execution_count": 37,
   "id": "9e016960",
   "metadata": {},
   "outputs": [],
   "source": [
    "n1.wheel=3"
   ]
  },
  {
   "cell_type": "code",
   "execution_count": null,
   "id": "03f0f6ae",
   "metadata": {},
   "outputs": [],
   "source": []
  }
 ],
 "metadata": {
  "kernelspec": {
   "display_name": "Python 3",
   "language": "python",
   "name": "python3"
  },
  "language_info": {
   "codemirror_mode": {
    "name": "ipython",
    "version": 3
   },
   "file_extension": ".py",
   "mimetype": "text/x-python",
   "name": "python",
   "nbconvert_exporter": "python",
   "pygments_lexer": "ipython3",
   "version": "3.8.8"
  }
 },
 "nbformat": 4,
 "nbformat_minor": 5
}
